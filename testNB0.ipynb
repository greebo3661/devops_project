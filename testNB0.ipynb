{
  "nbformat": 4,
  "nbformat_minor": 0,
  "metadata": {
    "colab": {
      "provenance": [],
      "authorship_tag": "ABX9TyNTqbGqgDfocOYYwjIHEkPk",
      "include_colab_link": true
    },
    "kernelspec": {
      "name": "python3",
      "display_name": "Python 3"
    },
    "language_info": {
      "name": "python"
    }
  },
  "cells": [
    {
      "cell_type": "markdown",
      "metadata": {
        "id": "view-in-github",
        "colab_type": "text"
      },
      "source": [
        "<a href=\"https://colab.research.google.com/github/greebo3661/devops_project/blob/main/testNB0.ipynb\" target=\"_parent\"><img src=\"https://colab.research.google.com/assets/colab-badge.svg\" alt=\"Open In Colab\"/></a>"
      ]
    },
    {
      "cell_type": "code",
      "execution_count": null,
      "metadata": {
        "id": "A7f2nh19hh1M"
      },
      "outputs": [],
      "source": []
    },
    {
      "cell_type": "markdown",
      "metadata": {
        "id": "fa657556"
      },
      "source": [
        "Это произвольный текст 1."
      ]
    },
    {
      "cell_type": "markdown",
      "metadata": {
        "id": "6b9ad17e"
      },
      "source": [
        "Это произвольный текст 2, просто для примера."
      ]
    },
    {
      "cell_type": "markdown",
      "metadata": {
        "id": "e2c6ef33"
      },
      "source": [
        "И еще немного произвольного текста 3."
      ]
    },
    {
      "cell_type": "code",
      "metadata": {
        "colab": {
          "base_uri": "https://localhost:8080/"
        },
        "id": "1b53d929",
        "outputId": "e1adca31-2015-4b38-abbb-8a80e5f930f1"
      },
      "source": [
        "1 + 2"
      ],
      "execution_count": null,
      "outputs": [
        {
          "output_type": "execute_result",
          "data": {
            "text/plain": [
              "3"
            ]
          },
          "metadata": {},
          "execution_count": 3
        }
      ]
    }
  ]
}